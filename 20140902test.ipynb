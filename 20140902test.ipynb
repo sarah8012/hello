{
 "metadata": {
  "name": "",
  "signature": "sha256:4c1b7513a45f8317f6af969f4d3f8080682aa66c8c358a2311b00f45435bc0c1"
 },
 "nbformat": 3,
 "nbformat_minor": 0,
 "worksheets": [
  {
   "cells": [
    {
     "cell_type": "code",
     "collapsed": false,
     "input": [
      "student = [\"John\" , \"Tom\" , \"Jane\" , \"Amy\"]"
     ],
     "language": "python",
     "metadata": {},
     "outputs": [],
     "prompt_number": 2
    },
    {
     "cell_type": "code",
     "collapsed": false,
     "input": [
      "student[0:2]"
     ],
     "language": "python",
     "metadata": {},
     "outputs": [
      {
       "metadata": {},
       "output_type": "pyout",
       "prompt_number": 3,
       "text": [
        "['John', 'Tom']"
       ]
      }
     ],
     "prompt_number": 3
    },
    {
     "cell_type": "code",
     "collapsed": false,
     "input": [
      "student[-4:-1]"
     ],
     "language": "python",
     "metadata": {},
     "outputs": [
      {
       "metadata": {},
       "output_type": "pyout",
       "prompt_number": 4,
       "text": [
        "['John', 'Tom', 'Jane']"
       ]
      }
     ],
     "prompt_number": 4
    },
    {
     "cell_type": "code",
     "collapsed": false,
     "input": [
      "student[-3]"
     ],
     "language": "python",
     "metadata": {},
     "outputs": [
      {
       "metadata": {},
       "output_type": "pyout",
       "prompt_number": 5,
       "text": [
        "'Tom'"
       ]
      }
     ],
     "prompt_number": 5
    },
    {
     "cell_type": "code",
     "collapsed": false,
     "input": [
      "%pylab inline"
     ],
     "language": "python",
     "metadata": {},
     "outputs": [
      {
       "output_type": "stream",
       "stream": "stdout",
       "text": [
        "Populating the interactive namespace from numpy and matplotlib\n"
       ]
      }
     ],
     "prompt_number": 6
    },
    {
     "cell_type": "code",
     "collapsed": false,
     "input": [
      "L = []"
     ],
     "language": "python",
     "metadata": {},
     "outputs": [],
     "prompt_number": 7
    },
    {
     "cell_type": "code",
     "collapsed": false,
     "input": [
      "L.append(3)"
     ],
     "language": "python",
     "metadata": {},
     "outputs": [],
     "prompt_number": 8
    },
    {
     "cell_type": "code",
     "collapsed": false,
     "input": [
      "L"
     ],
     "language": "python",
     "metadata": {},
     "outputs": [
      {
       "metadata": {},
       "output_type": "pyout",
       "prompt_number": 9,
       "text": [
        "[3]"
       ]
      }
     ],
     "prompt_number": 9
    },
    {
     "cell_type": "code",
     "collapsed": false,
     "input": [
      "L.append(7)"
     ],
     "language": "python",
     "metadata": {},
     "outputs": [],
     "prompt_number": 10
    },
    {
     "cell_type": "code",
     "collapsed": false,
     "input": [
      "L"
     ],
     "language": "python",
     "metadata": {},
     "outputs": [
      {
       "metadata": {},
       "output_type": "pyout",
       "prompt_number": 11,
       "text": [
        "[3, 7]"
       ]
      }
     ],
     "prompt_number": 11
    },
    {
     "cell_type": "code",
     "collapsed": false,
     "input": [
      "L.append('dog')"
     ],
     "language": "python",
     "metadata": {},
     "outputs": [],
     "prompt_number": 12
    },
    {
     "cell_type": "code",
     "collapsed": false,
     "input": [
      "L"
     ],
     "language": "python",
     "metadata": {},
     "outputs": [
      {
       "metadata": {},
       "output_type": "pyout",
       "prompt_number": 13,
       "text": [
        "[3, 7, 'dog']"
       ]
      }
     ],
     "prompt_number": 13
    },
    {
     "cell_type": "code",
     "collapsed": false,
     "input": [
      "L = []\n",
      "for i in range(6):\n",
      "    L.append(2*i)"
     ],
     "language": "python",
     "metadata": {},
     "outputs": [],
     "prompt_number": 14
    },
    {
     "cell_type": "code",
     "collapsed": false,
     "input": [
      "L"
     ],
     "language": "python",
     "metadata": {},
     "outputs": [
      {
       "metadata": {},
       "output_type": "pyout",
       "prompt_number": 15,
       "text": [
        "[0, 2, 4, 6, 8, 10]"
       ]
      }
     ],
     "prompt_number": 15
    },
    {
     "cell_type": "code",
     "collapsed": false,
     "input": [
      "S = [2*i for i in range(6)]"
     ],
     "language": "python",
     "metadata": {},
     "outputs": [],
     "prompt_number": 16
    },
    {
     "cell_type": "code",
     "collapsed": false,
     "input": [
      "S"
     ],
     "language": "python",
     "metadata": {},
     "outputs": [
      {
       "metadata": {},
       "output_type": "pyout",
       "prompt_number": 17,
       "text": [
        "[0, 2, 4, 6, 8, 10]"
       ]
      }
     ],
     "prompt_number": 17
    },
    {
     "cell_type": "code",
     "collapsed": false,
     "input": [
      "M = [1+2*i for i in range(6)]"
     ],
     "language": "python",
     "metadata": {},
     "outputs": [],
     "prompt_number": 18
    },
    {
     "cell_type": "code",
     "collapsed": false,
     "input": [
      "M"
     ],
     "language": "python",
     "metadata": {},
     "outputs": [
      {
       "metadata": {},
       "output_type": "pyout",
       "prompt_number": 19,
       "text": [
        "[1, 3, 5, 7, 9, 11]"
       ]
      }
     ],
     "prompt_number": 19
    },
    {
     "cell_type": "code",
     "collapsed": false,
     "input": [
      "st = \"0a1p2p3l4e\""
     ],
     "language": "python",
     "metadata": {},
     "outputs": [],
     "prompt_number": 20
    },
    {
     "cell_type": "code",
     "collapsed": false,
     "input": [
      "line = \"Ian Tsai,95,77,83\""
     ],
     "language": "python",
     "metadata": {},
     "outputs": [],
     "prompt_number": 21
    },
    {
     "cell_type": "code",
     "collapsed": false,
     "input": [
      "student = line.split(',')"
     ],
     "language": "python",
     "metadata": {},
     "outputs": [],
     "prompt_number": 22
    },
    {
     "cell_type": "code",
     "collapsed": false,
     "input": [
      "student"
     ],
     "language": "python",
     "metadata": {},
     "outputs": [
      {
       "metadata": {},
       "output_type": "pyout",
       "prompt_number": 23,
       "text": [
        "['Ian Tsai', '95', '77', '83']"
       ]
      }
     ],
     "prompt_number": 23
    },
    {
     "cell_type": "code",
     "collapsed": false,
     "input": [
      "L = \"tom,78,99,85\""
     ],
     "language": "python",
     "metadata": {},
     "outputs": [],
     "prompt_number": 24
    },
    {
     "cell_type": "code",
     "collapsed": false,
     "input": [
      "Lstu = L.split(',')"
     ],
     "language": "python",
     "metadata": {},
     "outputs": [],
     "prompt_number": 25
    },
    {
     "cell_type": "code",
     "collapsed": false,
     "input": [
      "Lstu"
     ],
     "language": "python",
     "metadata": {},
     "outputs": [
      {
       "metadata": {},
       "output_type": "pyout",
       "prompt_number": 26,
       "text": [
        "['tom', '78', '99', '85']"
       ]
      }
     ],
     "prompt_number": 26
    },
    {
     "cell_type": "code",
     "collapsed": false,
     "input": [
      "record = ','.join(Lstu)"
     ],
     "language": "python",
     "metadata": {},
     "outputs": [],
     "prompt_number": 27
    },
    {
     "cell_type": "code",
     "collapsed": false,
     "input": [
      "record"
     ],
     "language": "python",
     "metadata": {},
     "outputs": [
      {
       "metadata": {},
       "output_type": "pyout",
       "prompt_number": 28,
       "text": [
        "'tom,78,99,85'"
       ]
      }
     ],
     "prompt_number": 28
    },
    {
     "cell_type": "code",
     "collapsed": false,
     "input": [
      "name = raw_input(\"Your name,please?\")\n",
      "print \"Hi,%s!Nice to meet you!\"%name"
     ],
     "language": "python",
     "metadata": {},
     "outputs": [
      {
       "name": "stdout",
       "output_type": "stream",
       "stream": "stdout",
       "text": [
        "Your name,please?mind\n"
       ]
      },
      {
       "output_type": "stream",
       "stream": "stdout",
       "text": [
        "Hi,mind!Nice to meet you!\n"
       ]
      }
     ],
     "prompt_number": 29
    },
    {
     "cell_type": "code",
     "collapsed": false,
     "input": [
      "name = \"Tom\""
     ],
     "language": "python",
     "metadata": {},
     "outputs": [],
     "prompt_number": 30
    },
    {
     "cell_type": "code",
     "collapsed": false,
     "input": [
      "city = \"Tainan\""
     ],
     "language": "python",
     "metadata": {},
     "outputs": [],
     "prompt_number": 31
    },
    {
     "cell_type": "code",
     "collapsed": false,
     "input": [
      "print \"I'm %s .I'm from %s\"%(name,city)"
     ],
     "language": "python",
     "metadata": {},
     "outputs": [
      {
       "output_type": "stream",
       "stream": "stdout",
       "text": [
        "I'm Tom .I'm from Tainan\n"
       ]
      }
     ],
     "prompt_number": 32
    },
    {
     "cell_type": "code",
     "collapsed": false,
     "input": [
      "print \"\u59d3\u540d: %10s\" %(\"Tom\")\n",
      "print \"\u5206\u6578: %10.2f\" %(83.66)\n",
      "print \"\u5206\u6578: %10f\" %(83.66)"
     ],
     "language": "python",
     "metadata": {},
     "outputs": [
      {
       "output_type": "stream",
       "stream": "stdout",
       "text": [
        "\u59d3\u540d:        Tom\n",
        "\u5206\u6578:      83.66\n",
        "\u5206\u6578:  83.660000\n"
       ]
      }
     ],
     "prompt_number": 33
    },
    {
     "cell_type": "code",
     "collapsed": false,
     "input": [
      "message = \"\"\"momo\u71b1\u8ce3\u6b3e\u3002\u6bcf\u6b21\u5230\u8ca8\u5fc5\u5b9a\u79d2\u6bba\u6436\u7a7a\uff01\n",
      "9\u6708\u9996\u6b21\u9650\u91cf\u5230\u8ca8\u3002\u984f\u8272\u9f4a\u5168\n",
      "\u7acb\u9ad4\u659c\u7d0b\u8a2d\u8a08\u3002\u5805\u56fa\u8010\u7528\u3002\u8010\u78e8\u975c\u97f3\u8f2a\u3002\"\"\""
     ],
     "language": "python",
     "metadata": {},
     "outputs": [],
     "prompt_number": 34
    },
    {
     "cell_type": "code",
     "collapsed": false,
     "input": [
      "f = open(\"grades.csv\",'r') #\u6253\u958bgrades.csv"
     ],
     "language": "python",
     "metadata": {},
     "outputs": [],
     "prompt_number": 35
    },
    {
     "cell_type": "code",
     "collapsed": false,
     "input": [
      "rawdata = f.readlines()"
     ],
     "language": "python",
     "metadata": {},
     "outputs": [],
     "prompt_number": 36
    },
    {
     "cell_type": "code",
     "collapsed": false,
     "input": [
      "f.close() #\u95dc\u6389grades.csv"
     ],
     "language": "python",
     "metadata": {},
     "outputs": [],
     "prompt_number": 37
    },
    {
     "cell_type": "code",
     "collapsed": false,
     "input": [
      "rawdata"
     ],
     "language": "python",
     "metadata": {},
     "outputs": [
      {
       "metadata": {},
       "output_type": "pyout",
       "prompt_number": 38,
       "text": [
        "['\\xe5\\xa7\\x93\\xe5\\x90\\x8d,\\xe5\\x9c\\x8b\\xe6\\x96\\x87,\\xe8\\x8b\\xb1\\xe6\\x96\\x87,\\xe6\\x95\\xb8\\xe5\\xad\\xb8,\\xe8\\x87\\xaa\\xe7\\x84\\xb6,\\xe7\\xa4\\xbe\\xe6\\x9c\\x83\\n',\n",
        " '\\xe5\\x8a\\x89\\xe4\\xbf\\x8a\\xe5\\xae\\x89,9,10,15,10,13\\n',\n",
        " '\\xe8\\x83\\xa1\\xe7\\x8e\\x89\\xe8\\x8f\\xaf,10,10,10,8,9\\n',\n",
        " '\\xe9\\xbb\\x83\\xe6\\xb7\\x91\\xe5\\xa9\\xb7,13,15,8,11,14\\n',\n",
        " '\\xe9\\x99\\xb3\\xe4\\xb8\\x8a\\xe7\\xb4\\xab,10,10,8,9,14\\n',\n",
        " '\\xe5\\xb4\\x94\\xe9\\x9d\\x9c\\xe6\\x88\\x90,13,12,14,12,13\\n',\n",
        " '\\xe5\\xbc\\xb5\\xe9\\x9b\\x85\\xe5\\xb2\\xb3,13,12,12,12,8\\n',\n",
        " '\\xe6\\xa2\\x81\\xe4\\xbf\\x8a\\xe7\\xbf\\x94,11,13,10,10,14\\n',\n",
        " '\\xe6\\x9e\\x97\\xe9\\x87\\x91\\xe9\\xb3\\xb3,8,9,10,10,8\\n',\n",
        " '\\xe8\\xa8\\xb1\\xe5\\x8d\\x94\\xe6\\x97\\xba,9,9,12,10,10\\n',\n",
        " '\\xe9\\x83\\xad\\xe9\\x9b\\x85\\xe6\\x83\\xa0,10,15,12,11,9\\n',\n",
        " '\\xe5\\xbc\\xb5\\xe5\\xbf\\x97\\xe5\\x81\\x89,14,9,8,10,12\\n',\n",
        " '\\xe5\\x91\\xa8\\xe7\\x9a\\x87\\xe6\\xa8\\xba,13,9,13,14,15\\n',\n",
        " '\\xe6\\x9d\\x8e\\xe6\\xad\\xa3\\xe5\\x81\\x89,11,15,11,14,15\\n',\n",
        " '\\xe9\\xbb\\x83\\xe6\\x97\\xad\\xe5\\xbf\\xa0,15,14,9,12,10\\n',\n",
        " '\\xe8\\x91\\x89\\xe9\\x9b\\x85\\xe7\\x90\\xb3,8,13,10,13,14\\n',\n",
        " '\\xe9\\xbb\\x83\\xe6\\xb7\\x91\\xe6\\x85\\xa7,11,8,10,12,15\\n',\n",
        " '\\xe5\\x90\\xb3\\xe8\\x8a\\x9d\\xe8\\x8f\\x81,14,9,11,10,9\\n',\n",
        " '\\xe8\\x81\\xb6\\xe7\\x8f\\xae\\xe5\\x90\\x9b,12,11,13,12,9\\n',\n",
        " '\\xe6\\xa2\\x81\\xe6\\x85\\xa7\\xe5\\x90\\x9b,9,8,8,8,12\\n',\n",
        " '\\xe8\\x91\\x89\\xe6\\x9b\\x89\\xe7\\x8e\\xb2,14,9,11,15,9\\n',\n",
        " '\\xe9\\x99\\xb3\\xe6\\x99\\xba\\xe8\\xb6\\x85,13,9,13,14,13\\n',\n",
        " '\\xe9\\xbb\\x83\\xe5\\xa5\\x95\\xe9\\x9c\\x9e,9,8,11,13,8\\n',\n",
        " '\\xe6\\xb2\\x88\\xe6\\x98\\x86\\xe7\\xb4\\x94,12,14,10,9,9\\n',\n",
        " '\\xe8\\xa8\\xb1\\xe6\\x83\\xa0\\xe9\\x9b\\xaf,10,13,12,14,10\\n',\n",
        " '\\xe9\\x99\\xb3\\xe7\\xab\\xb9\\xe4\\xbc\\xaf,10,12,15,10,14\\n',\n",
        " '\\xe8\\x94\\xa1\\xe4\\xba\\xa6\\xe7\\x91\\x84,13,13,14,13,12\\n',\n",
        " '\\xe6\\x88\\xb4\\xe5\\x96\\x9c\\xe5\\xaf\\xb6,13,11,9,14,9\\n',\n",
        " '\\xe9\\xa6\\xae\\xe7\\x99\\xbd\\xe5\\xb1\\x8f,8,13,14,8,10\\n',\n",
        " '\\xe7\\x8e\\x8b\\xe9\\x87\\x91\\xe9\\xb3\\xb3,15,14,8,12,8\\n',\n",
        " '\\xe9\\x97\\x95\\xe9\\x80\\xb2\\xe7\\xb6\\xa0,14,11,13,8,11\\n',\n",
        " '\\xe9\\x80\\xa3\\xe7\\x91\\x8b\\xe7\\x8e\\xb2,8,10,14,8,13\\n',\n",
        " '\\xe6\\x9e\\x97\\xe7\\xa7\\x80\\xe5\\xa8\\x9f,15,12,9,9,15\\n',\n",
        " '\\xe6\\x9e\\x97\\xe5\\xbb\\xba\\xe4\\xba\\xa8,9,11,8,8,11\\n',\n",
        " '\\xe7\\x8e\\x8b\\xe4\\xbd\\xb3\\xe8\\x93\\x89,14,15,9,9,8\\n',\n",
        " '\\xe6\\x9b\\xbe\\xe6\\xb7\\x91\\xe7\\x8e\\x9f,13,12,10,11,9\\n',\n",
        " '\\xe7\\x9b\\xa7\\xe5\\x86\\xa0\\xe5\\xae\\x8f,14,11,10,11,11\\n',\n",
        " '\\xe8\\xa9\\xb9\\xe5\\xa8\\x81\\xe5\\xbe\\xb7,12,13,15,10,14\\n',\n",
        " '\\xe6\\x9b\\xbe\\xe6\\x80\\xa1\\xe5\\x90\\x9b,11,12,15,13,14\\n',\n",
        " '\\xe5\\x90\\xb3\\xe6\\x96\\x87\\xe4\\xbc\\xaf,8,8,8,15,12\\n',\n",
        " '\\xe6\\xae\\xb5\\xe5\\x86\\xa0\\xe5\\xbb\\xb7,9,8,15,12,15\\n',\n",
        " '\\xe5\\x90\\xb3\\xe6\\xac\\xa3\\xe5\\xbc\\xb7,12,13,8,11,9\\n',\n",
        " '\\xe6\\x9b\\xb2\\xe7\\xa7\\x80\\xe8\\x8a\\xac,14,14,8,9,15\\n',\n",
        " '\\xe8\\xb6\\x99\\xe6\\x81\\xad\\xe7\\xbe\\xa4,14,12,10,9,15\\n',\n",
        " '\\xe6\\x9e\\x97\\xe5\\xa3\\xab\\xe8\\x8c\\x9c,12,15,9,9,13\\n',\n",
        " '\\xe7\\xab\\xa5\\xe5\\xbf\\x83\\xe6\\x80\\xa1,13,13,14,8,13\\n',\n",
        " '\\xe8\\xac\\x9d\\xe4\\xba\\xae\\xe5\\xa4\\xab,9,8,14,11,9\\n',\n",
        " '\\xe6\\x9f\\xb3\\xe8\\x8f\\x81\\xe8\\x98\\xad,14,12,10,8,14\\n',\n",
        " '\\xe8\\x91\\x89\\xe5\\xad\\x90\\xe8\\xb1\\xaa,8,9,13,13,15\\n',\n",
        " '\\xe9\\x99\\xb3\\xe6\\x80\\xa1\\xe5\\xa9\\xb7,15,14,12,9,15\\n',\n",
        " '\\xe6\\x9c\\xb1\\xe5\\xaf\\xb6\\xe5\\x8e\\x9f,10,14,11,10,15\\n',\n",
        " '\\xe9\\xa6\\xae\\xe4\\xbc\\xb6\\xe7\\x91\\x8b,12,12,14,8,11\\n',\n",
        " '\\xe5\\x8a\\x89\\xe5\\xbd\\xa5\\xe6\\x96\\x8c,14,11,11,12,13\\n',\n",
        " '\\xe9\\xbb\\x83\\xe6\\x85\\xa7\\xe7\\xb6\\xb8,12,9,13,14,9\\n',\n",
        " '\\xe9\\xa7\\xb1\\xe7\\xa9\\x8e\\xe7\\x90\\xa6,14,10,11,9,15\\n',\n",
        " '\\xe9\\x99\\xb3\\xe6\\x80\\xa1\\xe6\\xbd\\x94,15,15,9,15,11\\n',\n",
        " '\\xe6\\x9e\\x97\\xe6\\x84\\x8f\\xe7\\x8f\\x8d,9,15,11,13,9\\n',\n",
        " '\\xe9\\x99\\xb3\\xe4\\xba\\xad\\xe5\\xa6\\x8f,11,14,11,12,10\\n',\n",
        " '\\xe8\\x83\\xa1\\xe6\\xb7\\xb3\\xe8\\x8c\\x9c,12,15,14,13,11\\n',\n",
        " '\\xe9\\x99\\xb3\\xe5\\x85\\x81\\xe5\\x87\\x8c,10,13,9,11,14\\n',\n",
        " '\\xe8\\x8a\\xae\\xe7\\xa7\\x8b\\xe8\\xbe\\x9b,11,10,15,10,8\\n',\n",
        " '\\xe6\\x9b\\xbe\\xe6\\x98\\x87\\xe5\\x96\\xac,14,12,11,8,15\\n',\n",
        " '\\xe5\\x91\\xa8\\xe7\\xad\\xa0\\xe8\\x8f\\x81,14,8,8,11,12\\n',\n",
        " '\\xe8\\xa8\\xb1\\xe7\\xab\\x8b\\xe5\\x81\\x89,8,10,10,15,9\\n',\n",
        " '\\xe5\\xbc\\xb5\\xe5\\xb1\\xb1\\xe7\\x90\\x87,12,11,9,9,15\\n',\n",
        " '\\xe4\\xbf\\x9e\\xe5\\xbf\\x97\\xe5\\xb3\\xb0,9,14,13,14,15\\n',\n",
        " '\\xe8\\xac\\x9d\\xe9\\x9b\\x85\\xe7\\x90\\xb3,13,14,13,12,9\\n',\n",
        " '\\xe9\\x82\\xb1\\xe7\\x9b\\x88\\xe4\\xbf\\x8a,10,14,14,13,8\\n',\n",
        " '\\xe6\\x9e\\x97\\xe5\\x93\\xb2\\xe6\\xb3\\x95,14,9,15,10,14\\n',\n",
        " '\\xe5\\x8a\\x89\\xe9\\xba\\x97\\xe8\\x8a\\xac,8,14,14,14,14\\n',\n",
        " '\\xe8\\x94\\xa3\\xe5\\xa5\\x95\\xe4\\xbb\\xbb,12,12,10,13,8\\n',\n",
        " '\\xe8\\x91\\x89\\xe5\\x84\\x80\\xe4\\xbe\\x9d,9,13,15,8,14\\n',\n",
        " '\\xe8\\x91\\x89\\xe5\\xbf\\x85\\xe7\\x9b\\x88,9,8,13,9,12\\n',\n",
        " '\\xe9\\x99\\xb3\\xe6\\xac\\xa3\\xe7\\x8e\\xb2,10,9,13,8,10\\n',\n",
        " '\\xe5\\x90\\xb3\\xe5\\xbf\\x97\\xe9\\x81\\xa0,13,15,15,8,8\\n',\n",
        " '\\xe5\\x8a\\x89\\xe9\\x9b\\x85\\xe5\\x8f\\x8b,14,9,10,14,11\\n',\n",
        " '\\xe5\\xae\\x8b\\xe7\\xbe\\x8e\\xe7\\x8f\\xa0,13,8,9,10,11\\n',\n",
        " '\\xe5\\x91\\xa8\\xe8\\x82\\xb2\\xe9\\x9c\\x96,9,12,15,13,12\\n',\n",
        " '\\xe9\\xbb\\x83\\xe4\\xbb\\x8b\\xe5\\x96\\xac,13,10,11,8,13\\n',\n",
        " '\\xe8\\x91\\x89\\xe5\\xad\\x9f\\xe5\\x90\\x8d,12,13,13,9,11\\n',\n",
        " '\\xe5\\xae\\xa3\\xe5\\xae\\xa3\\xe5\\xa3\\xab,9,10,12,15,13\\n',\n",
        " '\\xe6\\x96\\xbd\\xe9\\x9b\\x85\\xe9\\x88\\xb4,13,15,12,13,13\\n',\n",
        " '\\xe6\\xa5\\x8a\\xe5\\xbd\\xa5\\xe4\\xbc\\xb6,11,8,13,9,15\\n',\n",
        " '\\xe8\\x95\\xad\\xe5\\x91\\x88\\xe8\\x90\\x8d,11,14,9,15,9\\n',\n",
        " '\\xe6\\x9d\\x8e\\xe5\\xa3\\xab\\xe8\\xb3\\xa2,10,14,15,13,13\\n',\n",
        " '\\xe8\\x83\\xa1\\xe5\\x87\\xb1\\xe7\\x90\\xb3,10,8,9,9,15\\n',\n",
        " '\\xe5\\xbc\\xb5\\xe9\\x9b\\x85\\xe5\\xbd\\xac,10,11,15,12,8\\n',\n",
        " '\\xe6\\x9e\\x97\\xe8\\xb2\\x9e\\xe5\\x84\\x80,11,10,14,8,13\\n',\n",
        " '\\xe8\\xb6\\x99\\xe5\\x81\\x89\\xe5\\xb8\\x8c,10,13,14,13,15\\n',\n",
        " '\\xe6\\x88\\xb4\\xe9\\x9d\\x92\\xe8\\x8b\\xb1,11,8,14,12,10\\n',\n",
        " '\\xe9\\x83\\xad\\xe9\\xa0\\x86\\xe8\\xaa\\xa0,13,13,10,14,9\\n',\n",
        " '\\xe8\\x83\\xa1\\xe5\\x8b\\x9d\\xe5\\x82\\x91,8,11,15,10,15\\n',\n",
        " '\\xe9\\x99\\xb3\\xe7\\x99\\xbb\\xe7\\xbf\\xb0,14,11,11,13,12\\n',\n",
        " '\\xe8\\x94\\xa1\\xe6\\xb7\\x91\\xe5\\xad\\x9d,8,12,14,12,11\\n',\n",
        " '\\xe6\\x9d\\x8e\\xe6\\x9b\\xbc\\xe5\\xa4\\xa2,11,9,11,8,8\\n',\n",
        " '\\xe6\\x9e\\x97\\xe8\\x88\\x87\\xe5\\xbf\\xa0,10,9,10,11,15\\n',\n",
        " '\\xe8\\x94\\xa1\\xe4\\xbd\\xb3\\xe7\\x87\\x95,9,10,9,13,14\\n',\n",
        " '\\xe5\\x90\\xb3\\xe7\\xad\\xb1\\xe5\\xa9\\xb7,8,10,14,10,15\\n',\n",
        " '\\xe9\\x99\\xb3\\xe5\\xae\\xb6\\xe9\\x8a\\x98,14,9,11,8,12\\n',\n",
        " '\\xe6\\x9d\\x8e\\xe6\\x98\\x8e\\xe5\\xa8\\x81,15,9,8,9,15\\n',\n",
        " '\\xe8\\xbe\\xb2\\xe6\\x8f\\x9a\\xe5\\x8b\\x87,9,11,12,12,10\\n']"
       ]
      }
     ],
     "prompt_number": 38
    },
    {
     "cell_type": "code",
     "collapsed": false,
     "input": [
      "st1 = rawdata[37]"
     ],
     "language": "python",
     "metadata": {},
     "outputs": [],
     "prompt_number": 39
    },
    {
     "cell_type": "code",
     "collapsed": false,
     "input": [
      "st1"
     ],
     "language": "python",
     "metadata": {},
     "outputs": [
      {
       "metadata": {},
       "output_type": "pyout",
       "prompt_number": 40,
       "text": [
        "'\\xe8\\xa9\\xb9\\xe5\\xa8\\x81\\xe5\\xbe\\xb7,12,13,15,10,14\\n'"
       ]
      }
     ],
     "prompt_number": 40
    },
    {
     "cell_type": "code",
     "collapsed": false,
     "input": [
      "print st1"
     ],
     "language": "python",
     "metadata": {},
     "outputs": [
      {
       "output_type": "stream",
       "stream": "stdout",
       "text": [
        "\u8a79\u5a01\u5fb7,12,13,15,10,14\n",
        "\n"
       ]
      }
     ],
     "prompt_number": 41
    },
    {
     "cell_type": "code",
     "collapsed": false,
     "input": [
      "for student in rawdata:\n",
      "    print student.rstrip('\\n')\n"
     ],
     "language": "python",
     "metadata": {},
     "outputs": [
      {
       "output_type": "stream",
       "stream": "stdout",
       "text": [
        "\u59d3\u540d,\u570b\u6587,\u82f1\u6587,\u6578\u5b78,\u81ea\u7136,\u793e\u6703\n",
        "\u5289\u4fca\u5b89,9,10,15,10,13\n",
        "\u80e1\u7389\u83ef,10,10,10,8,9\n",
        "\u9ec3\u6dd1\u5a77,13,15,8,11,14\n",
        "\u9673\u4e0a\u7d2b,10,10,8,9,14\n",
        "\u5d14\u975c\u6210,13,12,14,12,13\n",
        "\u5f35\u96c5\u5cb3,13,12,12,12,8\n",
        "\u6881\u4fca\u7fd4,11,13,10,10,14\n",
        "\u6797\u91d1\u9cf3,8,9,10,10,8\n",
        "\u8a31\u5354\u65fa,9,9,12,10,10\n",
        "\u90ed\u96c5\u60e0,10,15,12,11,9\n",
        "\u5f35\u5fd7\u5049,14,9,8,10,12\n",
        "\u5468\u7687\u6a3a,13,9,13,14,15\n",
        "\u674e\u6b63\u5049,11,15,11,14,15\n",
        "\u9ec3\u65ed\u5fe0,15,14,9,12,10\n",
        "\u8449\u96c5\u7433,8,13,10,13,14\n",
        "\u9ec3\u6dd1\u6167,11,8,10,12,15\n",
        "\u5433\u829d\u83c1,14,9,11,10,9\n",
        "\u8076\u73ee\u541b,12,11,13,12,9\n",
        "\u6881\u6167\u541b,9,8,8,8,12\n",
        "\u8449\u66c9\u73b2,14,9,11,15,9\n",
        "\u9673\u667a\u8d85,13,9,13,14,13\n",
        "\u9ec3\u5955\u971e,9,8,11,13,8\n",
        "\u6c88\u6606\u7d14,12,14,10,9,9\n",
        "\u8a31\u60e0\u96ef,10,13,12,14,10\n",
        "\u9673\u7af9\u4f2f,10,12,15,10,14\n",
        "\u8521\u4ea6\u7444,13,13,14,13,12\n",
        "\u6234\u559c\u5bf6,13,11,9,14,9\n",
        "\u99ae\u767d\u5c4f,8,13,14,8,10\n",
        "\u738b\u91d1\u9cf3,15,14,8,12,8\n",
        "\u95d5\u9032\u7da0,14,11,13,8,11\n",
        "\u9023\u744b\u73b2,8,10,14,8,13\n",
        "\u6797\u79c0\u5a1f,15,12,9,9,15\n",
        "\u6797\u5efa\u4ea8,9,11,8,8,11\n",
        "\u738b\u4f73\u84c9,14,15,9,9,8\n",
        "\u66fe\u6dd1\u739f,13,12,10,11,9\n",
        "\u76e7\u51a0\u5b8f,14,11,10,11,11\n",
        "\u8a79\u5a01\u5fb7,12,13,15,10,14\n",
        "\u66fe\u6021\u541b,11,12,15,13,14\n",
        "\u5433\u6587\u4f2f,8,8,8,15,12\n",
        "\u6bb5\u51a0\u5ef7,9,8,15,12,15\n",
        "\u5433\u6b23\u5f37,12,13,8,11,9\n",
        "\u66f2\u79c0\u82ac,14,14,8,9,15\n",
        "\u8d99\u606d\u7fa4,14,12,10,9,15\n",
        "\u6797\u58eb\u831c,12,15,9,9,13\n",
        "\u7ae5\u5fc3\u6021,13,13,14,8,13\n",
        "\u8b1d\u4eae\u592b,9,8,14,11,9\n",
        "\u67f3\u83c1\u862d,14,12,10,8,14\n",
        "\u8449\u5b50\u8c6a,8,9,13,13,15\n",
        "\u9673\u6021\u5a77,15,14,12,9,15\n",
        "\u6731\u5bf6\u539f,10,14,11,10,15\n",
        "\u99ae\u4f36\u744b,12,12,14,8,11\n",
        "\u5289\u5f65\u658c,14,11,11,12,13\n",
        "\u9ec3\u6167\u7db8,12,9,13,14,9\n",
        "\u99f1\u7a4e\u7426,14,10,11,9,15\n",
        "\u9673\u6021\u6f54,15,15,9,15,11\n",
        "\u6797\u610f\u73cd,9,15,11,13,9\n",
        "\u9673\u4ead\u598f,11,14,11,12,10\n",
        "\u80e1\u6df3\u831c,12,15,14,13,11\n",
        "\u9673\u5141\u51cc,10,13,9,11,14\n",
        "\u82ae\u79cb\u8f9b,11,10,15,10,8\n",
        "\u66fe\u6607\u55ac,14,12,11,8,15\n",
        "\u5468\u7b60\u83c1,14,8,8,11,12\n",
        "\u8a31\u7acb\u5049,8,10,10,15,9\n",
        "\u5f35\u5c71\u7407,12,11,9,9,15\n",
        "\u4fde\u5fd7\u5cf0,9,14,13,14,15\n",
        "\u8b1d\u96c5\u7433,13,14,13,12,9\n",
        "\u90b1\u76c8\u4fca,10,14,14,13,8\n",
        "\u6797\u54f2\u6cd5,14,9,15,10,14\n",
        "\u5289\u9e97\u82ac,8,14,14,14,14\n",
        "\u8523\u5955\u4efb,12,12,10,13,8\n",
        "\u8449\u5100\u4f9d,9,13,15,8,14\n",
        "\u8449\u5fc5\u76c8,9,8,13,9,12\n",
        "\u9673\u6b23\u73b2,10,9,13,8,10\n",
        "\u5433\u5fd7\u9060,13,15,15,8,8\n",
        "\u5289\u96c5\u53cb,14,9,10,14,11\n",
        "\u5b8b\u7f8e\u73e0,13,8,9,10,11\n",
        "\u5468\u80b2\u9716,9,12,15,13,12\n",
        "\u9ec3\u4ecb\u55ac,13,10,11,8,13\n",
        "\u8449\u5b5f\u540d,12,13,13,9,11\n",
        "\u5ba3\u5ba3\u58eb,9,10,12,15,13\n",
        "\u65bd\u96c5\u9234,13,15,12,13,13\n",
        "\u694a\u5f65\u4f36,11,8,13,9,15\n",
        "\u856d\u5448\u840d,11,14,9,15,9\n",
        "\u674e\u58eb\u8ce2,10,14,15,13,13\n",
        "\u80e1\u51f1\u7433,10,8,9,9,15\n",
        "\u5f35\u96c5\u5f6c,10,11,15,12,8\n",
        "\u6797\u8c9e\u5100,11,10,14,8,13\n",
        "\u8d99\u5049\u5e0c,10,13,14,13,15\n",
        "\u6234\u9752\u82f1,11,8,14,12,10\n",
        "\u90ed\u9806\u8aa0,13,13,10,14,9\n",
        "\u80e1\u52dd\u5091,8,11,15,10,15\n",
        "\u9673\u767b\u7ff0,14,11,11,13,12\n",
        "\u8521\u6dd1\u5b5d,8,12,14,12,11\n",
        "\u674e\u66fc\u5922,11,9,11,8,8\n",
        "\u6797\u8207\u5fe0,10,9,10,11,15\n",
        "\u8521\u4f73\u71d5,9,10,9,13,14\n",
        "\u5433\u7b71\u5a77,8,10,14,10,15\n",
        "\u9673\u5bb6\u9298,14,9,11,8,12\n",
        "\u674e\u660e\u5a01,15,9,8,9,15\n",
        "\u8fb2\u63da\u52c7,9,11,12,12,10\n"
       ]
      }
     ],
     "prompt_number": 42
    },
    {
     "cell_type": "code",
     "collapsed": false,
     "input": [
      "st1 = \"Taiwan , 213541,54321354\"\n",
      "st2 = \"Canada , 123587,16584132\"\n",
      "st3 = \"Japan , 45878966,56421356\""
     ],
     "language": "python",
     "metadata": {},
     "outputs": [],
     "prompt_number": 43
    },
    {
     "cell_type": "code",
     "collapsed": false,
     "input": [
      "f = open(\"countries.csv\",'w')"
     ],
     "language": "python",
     "metadata": {},
     "outputs": [],
     "prompt_number": 44
    },
    {
     "cell_type": "code",
     "collapsed": false,
     "input": [
      "print>>f,st1\n",
      "print>>f,st2\n",
      "print>>f,st3"
     ],
     "language": "python",
     "metadata": {},
     "outputs": [],
     "prompt_number": 45
    },
    {
     "cell_type": "code",
     "collapsed": false,
     "input": [
      "f.close()"
     ],
     "language": "python",
     "metadata": {},
     "outputs": [],
     "prompt_number": 46
    },
    {
     "cell_type": "code",
     "collapsed": true,
     "input": [],
     "language": "python",
     "metadata": {},
     "outputs": [],
     "prompt_number": 46
    },
    {
     "cell_type": "code",
     "collapsed": false,
     "input": [
      "#import random as rnd rnd.randint \u78ba\u5b9a\u662f\u54ea\u4e00\u500b\u4e82\u6578"
     ],
     "language": "python",
     "metadata": {},
     "outputs": [],
     "prompt_number": 47
    },
    {
     "cell_type": "code",
     "collapsed": false,
     "input": [
      "from random import *"
     ],
     "language": "python",
     "metadata": {},
     "outputs": [],
     "prompt_number": 48
    },
    {
     "cell_type": "code",
     "collapsed": false,
     "input": [
      "pool = [\"POYA\",\"\u5168\u806f\",\"COSTCO\",\"COSMED\"]"
     ],
     "language": "python",
     "metadata": {},
     "outputs": [],
     "prompt_number": 49
    },
    {
     "cell_type": "code",
     "collapsed": false,
     "input": [
      "print choice(pool)"
     ],
     "language": "python",
     "metadata": {},
     "outputs": [
      {
       "output_type": "stream",
       "stream": "stdout",
       "text": [
        "POYA\n"
       ]
      }
     ],
     "prompt_number": 50
    },
    {
     "cell_type": "code",
     "collapsed": false,
     "input": [
      "numbers = range(1,50)"
     ],
     "language": "python",
     "metadata": {},
     "outputs": [],
     "prompt_number": 51
    },
    {
     "cell_type": "code",
     "collapsed": false,
     "input": [
      "numbers"
     ],
     "language": "python",
     "metadata": {},
     "outputs": [
      {
       "metadata": {},
       "output_type": "pyout",
       "prompt_number": 52,
       "text": [
        "[1,\n",
        " 2,\n",
        " 3,\n",
        " 4,\n",
        " 5,\n",
        " 6,\n",
        " 7,\n",
        " 8,\n",
        " 9,\n",
        " 10,\n",
        " 11,\n",
        " 12,\n",
        " 13,\n",
        " 14,\n",
        " 15,\n",
        " 16,\n",
        " 17,\n",
        " 18,\n",
        " 19,\n",
        " 20,\n",
        " 21,\n",
        " 22,\n",
        " 23,\n",
        " 24,\n",
        " 25,\n",
        " 26,\n",
        " 27,\n",
        " 28,\n",
        " 29,\n",
        " 30,\n",
        " 31,\n",
        " 32,\n",
        " 33,\n",
        " 34,\n",
        " 35,\n",
        " 36,\n",
        " 37,\n",
        " 38,\n",
        " 39,\n",
        " 40,\n",
        " 41,\n",
        " 42,\n",
        " 43,\n",
        " 44,\n",
        " 45,\n",
        " 46,\n",
        " 47,\n",
        " 48,\n",
        " 49]"
       ]
      }
     ],
     "prompt_number": 52
    },
    {
     "cell_type": "code",
     "collapsed": false,
     "input": [
      "sample(numbers,6)"
     ],
     "language": "python",
     "metadata": {},
     "outputs": [
      {
       "metadata": {},
       "output_type": "pyout",
       "prompt_number": 53,
       "text": [
        "[35, 29, 23, 21, 15, 40]"
       ]
      }
     ],
     "prompt_number": 53
    },
    {
     "cell_type": "code",
     "collapsed": false,
     "input": [
      "cards = range(52)"
     ],
     "language": "python",
     "metadata": {},
     "outputs": [],
     "prompt_number": 54
    },
    {
     "cell_type": "code",
     "collapsed": false,
     "input": [
      "cards"
     ],
     "language": "python",
     "metadata": {},
     "outputs": [
      {
       "metadata": {},
       "output_type": "pyout",
       "prompt_number": 55,
       "text": [
        "[0,\n",
        " 1,\n",
        " 2,\n",
        " 3,\n",
        " 4,\n",
        " 5,\n",
        " 6,\n",
        " 7,\n",
        " 8,\n",
        " 9,\n",
        " 10,\n",
        " 11,\n",
        " 12,\n",
        " 13,\n",
        " 14,\n",
        " 15,\n",
        " 16,\n",
        " 17,\n",
        " 18,\n",
        " 19,\n",
        " 20,\n",
        " 21,\n",
        " 22,\n",
        " 23,\n",
        " 24,\n",
        " 25,\n",
        " 26,\n",
        " 27,\n",
        " 28,\n",
        " 29,\n",
        " 30,\n",
        " 31,\n",
        " 32,\n",
        " 33,\n",
        " 34,\n",
        " 35,\n",
        " 36,\n",
        " 37,\n",
        " 38,\n",
        " 39,\n",
        " 40,\n",
        " 41,\n",
        " 42,\n",
        " 43,\n",
        " 44,\n",
        " 45,\n",
        " 46,\n",
        " 47,\n",
        " 48,\n",
        " 49,\n",
        " 50,\n",
        " 51]"
       ]
      }
     ],
     "prompt_number": 55
    },
    {
     "cell_type": "code",
     "collapsed": false,
     "input": [
      "shuffle(cards)"
     ],
     "language": "python",
     "metadata": {},
     "outputs": [],
     "prompt_number": 56
    },
    {
     "cell_type": "code",
     "collapsed": false,
     "input": [
      "cards"
     ],
     "language": "python",
     "metadata": {},
     "outputs": [
      {
       "metadata": {},
       "output_type": "pyout",
       "prompt_number": 57,
       "text": [
        "[1,\n",
        " 16,\n",
        " 22,\n",
        " 3,\n",
        " 17,\n",
        " 35,\n",
        " 38,\n",
        " 26,\n",
        " 29,\n",
        " 47,\n",
        " 39,\n",
        " 8,\n",
        " 34,\n",
        " 48,\n",
        " 25,\n",
        " 43,\n",
        " 30,\n",
        " 10,\n",
        " 24,\n",
        " 15,\n",
        " 45,\n",
        " 37,\n",
        " 19,\n",
        " 44,\n",
        " 49,\n",
        " 14,\n",
        " 31,\n",
        " 13,\n",
        " 50,\n",
        " 11,\n",
        " 23,\n",
        " 18,\n",
        " 20,\n",
        " 46,\n",
        " 0,\n",
        " 51,\n",
        " 40,\n",
        " 42,\n",
        " 9,\n",
        " 2,\n",
        " 27,\n",
        " 33,\n",
        " 36,\n",
        " 6,\n",
        " 41,\n",
        " 5,\n",
        " 4,\n",
        " 12,\n",
        " 7,\n",
        " 28,\n",
        " 21,\n",
        " 32]"
       ]
      }
     ],
     "prompt_number": 57
    },
    {
     "cell_type": "code",
     "collapsed": false,
     "input": [
      "list1 = [1,7,3,5]"
     ],
     "language": "python",
     "metadata": {},
     "outputs": [],
     "prompt_number": 58
    },
    {
     "cell_type": "code",
     "collapsed": false,
     "input": [
      "list2 = [2,4,7,9]"
     ],
     "language": "python",
     "metadata": {},
     "outputs": [],
     "prompt_number": 59
    },
    {
     "cell_type": "code",
     "collapsed": false,
     "input": [
      "list1*5"
     ],
     "language": "python",
     "metadata": {},
     "outputs": [
      {
       "metadata": {},
       "output_type": "pyout",
       "prompt_number": 60,
       "text": [
        "[1, 7, 3, 5, 1, 7, 3, 5, 1, 7, 3, 5, 1, 7, 3, 5, 1, 7, 3, 5]"
       ]
      }
     ],
     "prompt_number": 60
    },
    {
     "cell_type": "code",
     "collapsed": false,
     "input": [
      "result = []\n",
      "for i in range(len(list1)):\n",
      "    result.append(list1[i]-list2[i])"
     ],
     "language": "python",
     "metadata": {},
     "outputs": [],
     "prompt_number": 61
    },
    {
     "cell_type": "code",
     "collapsed": false,
     "input": [
      "result"
     ],
     "language": "python",
     "metadata": {},
     "outputs": [
      {
       "metadata": {},
       "output_type": "pyout",
       "prompt_number": 62,
       "text": [
        "[-1, 3, -4, -4]"
       ]
      }
     ],
     "prompt_number": 62
    },
    {
     "cell_type": "code",
     "collapsed": false,
     "input": [
      "ar1 = array(list1)\n",
      "ar2 = array(list2)"
     ],
     "language": "python",
     "metadata": {},
     "outputs": [],
     "prompt_number": 63
    },
    {
     "cell_type": "code",
     "collapsed": false,
     "input": [
      "ar1"
     ],
     "language": "python",
     "metadata": {},
     "outputs": [
      {
       "metadata": {},
       "output_type": "pyout",
       "prompt_number": 64,
       "text": [
        "array([1, 7, 3, 5])"
       ]
      }
     ],
     "prompt_number": 64
    },
    {
     "cell_type": "code",
     "collapsed": false,
     "input": [
      "ar1-ar2"
     ],
     "language": "python",
     "metadata": {},
     "outputs": [
      {
       "metadata": {},
       "output_type": "pyout",
       "prompt_number": 65,
       "text": [
        "array([-1,  3, -4, -4])"
       ]
      }
     ],
     "prompt_number": 65
    },
    {
     "cell_type": "code",
     "collapsed": false,
     "input": [
      "ar1*5"
     ],
     "language": "python",
     "metadata": {},
     "outputs": [
      {
       "metadata": {},
       "output_type": "pyout",
       "prompt_number": 66,
       "text": [
        "array([ 5, 35, 15, 25])"
       ]
      }
     ],
     "prompt_number": 66
    },
    {
     "cell_type": "code",
     "collapsed": false,
     "input": [
      "from datetime import date"
     ],
     "language": "python",
     "metadata": {},
     "outputs": [],
     "prompt_number": 67
    },
    {
     "cell_type": "code",
     "collapsed": false,
     "input": [
      "base = date(2011,6,12)\n",
      "now = date.today()\n",
      "n = (now-base).days\n",
      "\n",
      "print \"\u4eca\u5929\u662f\u4ea4\u5f80\u7b2c %d \u5929\u3002\" %n"
     ],
     "language": "python",
     "metadata": {},
     "outputs": [
      {
       "output_type": "stream",
       "stream": "stdout",
       "text": [
        "\u4eca\u5929\u662f\u4ea4\u5f80\u7b2c 1178 \u5929\u3002\n"
       ]
      }
     ],
     "prompt_number": 68
    },
    {
     "cell_type": "code",
     "collapsed": false,
     "input": [
      "x = linspace(-10,10,200)"
     ],
     "language": "python",
     "metadata": {},
     "outputs": [],
     "prompt_number": 69
    },
    {
     "cell_type": "code",
     "collapsed": false,
     "input": [
      "plot(x,sin(3*x))"
     ],
     "language": "python",
     "metadata": {},
     "outputs": [
      {
       "metadata": {},
       "output_type": "pyout",
       "prompt_number": 70,
       "text": [
        "[<matplotlib.lines.Line2D at 0xa513668>]"
       ]
      },
      {
       "metadata": {},
       "output_type": "display_data",
       "png": "[encoded data removed]",
       "text": [
        "<matplotlib.figure.Figure at 0xa46fc18>"
       ]
      }
     ],
     "prompt_number": 70
    },
    {
     "cell_type": "code",
     "collapsed": false,
     "input": [
      "plot(x,sin(3*x),linewidth = 3,color = 'lavender')\n",
      "plot(x,0.01*x**2,color = 'b')"
     ],
     "language": "python",
     "metadata": {},
     "outputs": [
      {
       "metadata": {},
       "output_type": "pyout",
       "prompt_number": 71,
       "text": [
        "[<matplotlib.lines.Line2D at 0xa4c74e0>]"
       ]
      },
      {
       "metadata": {},
       "output_type": "display_data",
       "png": "[encoded data removed]",
       "text": [
        "<matplotlib.figure.Figure at 0xa4c7550>"
       ]
      }
     ],
     "prompt_number": 71
    },
    {
     "cell_type": "code",
     "collapsed": false,
     "input": [
      "from IPython.html.widgets import interact"
     ],
     "language": "python",
     "metadata": {},
     "outputs": [],
     "prompt_number": 72
    },
    {
     "cell_type": "code",
     "collapsed": false,
     "input": [
      "def f(x):\n",
      "    print x"
     ],
     "language": "python",
     "metadata": {},
     "outputs": [],
     "prompt_number": 73
    },
    {
     "cell_type": "code",
     "collapsed": false,
     "input": [
      "interact(f,x=\"Tom\")"
     ],
     "language": "python",
     "metadata": {},
     "outputs": [
      {
       "output_type": "stream",
       "stream": "stdout",
       "text": [
        "Tom\n"
       ]
      },
      {
       "metadata": {},
       "output_type": "pyout",
       "prompt_number": 74,
       "text": [
        "<function __main__.f>"
       ]
      }
     ],
     "prompt_number": 74
    },
    {
     "cell_type": "code",
     "collapsed": false,
     "input": [
      "mydict = {'apple':1,'cat':2,'dog':3}"
     ],
     "language": "python",
     "metadata": {},
     "outputs": [],
     "prompt_number": 75
    },
    {
     "cell_type": "code",
     "collapsed": false,
     "input": [
      "a = mydict['apple']"
     ],
     "language": "python",
     "metadata": {},
     "outputs": [],
     "prompt_number": 76
    },
    {
     "cell_type": "code",
     "collapsed": false,
     "input": [
      "a"
     ],
     "language": "python",
     "metadata": {},
     "outputs": [
      {
       "metadata": {},
       "output_type": "pyout",
       "prompt_number": 77,
       "text": [
        "1"
       ]
      }
     ],
     "prompt_number": 77
    },
    {
     "cell_type": "code",
     "collapsed": false,
     "input": [
      "interact(f,x = {'apple':1,'cat':2,'dog':3})"
     ],
     "language": "python",
     "metadata": {},
     "outputs": [
      {
       "output_type": "stream",
       "stream": "stdout",
       "text": [
        "3\n"
       ]
      },
      {
       "metadata": {},
       "output_type": "pyout",
       "prompt_number": 78,
       "text": [
        "<function __main__.f>"
       ]
      }
     ],
     "prompt_number": 78
    },
    {
     "cell_type": "code",
     "collapsed": false,
     "input": [
      "a+1"
     ],
     "language": "python",
     "metadata": {},
     "outputs": [
      {
       "metadata": {},
       "output_type": "pyout",
       "prompt_number": 79,
       "text": [
        "2"
       ]
      }
     ],
     "prompt_number": 79
    },
    {
     "cell_type": "code",
     "collapsed": false,
     "input": [
      "def krw(m):\n",
      "    print \"\u5408\u53f0\u5e63\"+str(m*0.02946)"
     ],
     "language": "python",
     "metadata": {},
     "outputs": [],
     "prompt_number": 80
    },
    {
     "cell_type": "code",
     "collapsed": false,
     "input": [
      "krw(1000)"
     ],
     "language": "python",
     "metadata": {},
     "outputs": [
      {
       "output_type": "stream",
       "stream": "stdout",
       "text": [
        "\u5408\u53f0\u5e6329.46\n"
       ]
      }
     ],
     "prompt_number": 81
    },
    {
     "cell_type": "code",
     "collapsed": false,
     "input": [
      "interact(krw,m=100000)"
     ],
     "language": "python",
     "metadata": {},
     "outputs": [
      {
       "output_type": "stream",
       "stream": "stdout",
       "text": [
        "\u5408\u53f0\u5e632946.0\n"
       ]
      },
      {
       "metadata": {},
       "output_type": "pyout",
       "prompt_number": 82,
       "text": [
        "<function __main__.krw>"
       ]
      }
     ],
     "prompt_number": 82
    },
    {
     "cell_type": "code",
     "collapsed": false,
     "input": [
      "def move(s):\n",
      "    print \" \"*s+\"ooo\""
     ],
     "language": "python",
     "metadata": {},
     "outputs": [],
     "prompt_number": 83
    },
    {
     "cell_type": "code",
     "collapsed": false,
     "input": [
      "interact(move,s = (1,21))"
     ],
     "language": "python",
     "metadata": {},
     "outputs": [
      {
       "output_type": "stream",
       "stream": "stdout",
       "text": [
        "           ooo\n"
       ]
      },
      {
       "metadata": {},
       "output_type": "pyout",
       "prompt_number": 84,
       "text": [
        "<function __main__.move>"
       ]
      }
     ],
     "prompt_number": 84
    },
    {
     "cell_type": "code",
     "collapsed": false,
     "input": [
      "x = linspace(0.01,10,300)"
     ],
     "language": "python",
     "metadata": {},
     "outputs": [],
     "prompt_number": 85
    },
    {
     "cell_type": "code",
     "collapsed": false,
     "input": [
      "def draw(a):\n",
      "    plot(x,sin(a*x)/x)\n",
      "    ylim(-2,3)"
     ],
     "language": "python",
     "metadata": {},
     "outputs": [],
     "prompt_number": 86
    },
    {
     "cell_type": "code",
     "collapsed": false,
     "input": [
      "interact(draw, a=(1,20.))"
     ],
     "language": "python",
     "metadata": {},
     "outputs": [
      {
       "metadata": {},
       "output_type": "pyout",
       "prompt_number": 87,
       "text": [
        "<function __main__.draw>"
       ]
      },
      {
       "metadata": {},
       "output_type": "display_data",
       "png": "[encoded data removed]",
       "text": [
        "<matplotlib.figure.Figure at 0xaa173c8>"
       ]
      }
     ],
     "prompt_number": 87
    },
    {
     "cell_type": "code",
     "collapsed": false,
     "input": [],
     "language": "python",
     "metadata": {},
     "outputs": [],
     "prompt_number": 87
    },
    {
     "cell_type": "code",
     "collapsed": false,
     "input": [],
     "language": "python",
     "metadata": {},
     "outputs": [],
     "prompt_number": 87
    },
    {
     "cell_type": "code",
     "collapsed": false,
     "input": [],
     "language": "python",
     "metadata": {},
     "outputs": [],
     "prompt_number": 87
    }
   ],
   "metadata": {}
  }
 ]
}